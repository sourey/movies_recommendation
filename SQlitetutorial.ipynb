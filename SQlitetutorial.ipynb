{
 "cells": [
  {
   "cell_type": "code",
   "execution_count": 15,
   "metadata": {},
   "outputs": [],
   "source": [
    "import pandas as pd"
   ]
  },
  {
   "cell_type": "code",
   "execution_count": 16,
   "metadata": {},
   "outputs": [],
   "source": [
    "md=pd.read_csv(\"final_movie.csv\")"
   ]
  },
  {
   "cell_type": "code",
   "execution_count": 17,
   "metadata": {},
   "outputs": [],
   "source": [
    "\n",
    "# import sqlite3\n"
   ]
  },
  {
   "cell_type": "code",
   "execution_count": 18,
   "metadata": {},
   "outputs": [],
   "source": [
    "# DB='db.sqlite3'\n",
    "# conn = sqlite3.connect(DB) \n",
    "# #md.to_sql(\"movies\",conn,index=False)"
   ]
  },
  {
   "cell_type": "code",
   "execution_count": 20,
   "metadata": {},
   "outputs": [],
   "source": [
    "# cur = conn.cursor()\n",
    "# cur.execute(\"SELECT * FROM movies\")\n",
    "# rows = cur.fetchall()\n",
    " \n",
    "# for row in rows:\n",
    "#     (row)"
   ]
  },
  {
   "cell_type": "code",
   "execution_count": 23,
   "metadata": {},
   "outputs": [],
   "source": [
    " \n",
    "#  cur.execute(\"SELECT title FROM movies\")"
   ]
  },
  {
   "cell_type": "code",
   "execution_count": 24,
   "metadata": {},
   "outputs": [],
   "source": [
    "# rows = cur.fetchall()\n",
    " \n",
    "# for row in rows:\n",
    "#     print(row)"
   ]
  },
  {
   "cell_type": "code",
   "execution_count": 25,
   "metadata": {},
   "outputs": [],
   "source": [
    "#  x=cur.execute(\"SELECT title FROM movies\")"
   ]
  },
  {
   "cell_type": "code",
   "execution_count": 26,
   "metadata": {},
   "outputs": [],
   "source": [
    "# x"
   ]
  },
  {
   "cell_type": "code",
   "execution_count": 27,
   "metadata": {},
   "outputs": [],
   "source": [
    "# for i in x:\n",
    "#     #print(i)"
   ]
  },
  {
   "cell_type": "code",
   "execution_count": 24,
   "metadata": {},
   "outputs": [],
   "source": [
    "md['poster_path']=\"posters/poster_\"+md['id'].astype('str')+\".jpg\""
   ]
  },
  {
   "cell_type": "code",
   "execution_count": 25,
   "metadata": {},
   "outputs": [
    {
     "data": {
      "text/plain": [
       "0          posters/poster_278.jpg\n",
       "1          posters/poster_238.jpg\n",
       "2          posters/poster_155.jpg\n",
       "3          posters/poster_240.jpg\n",
       "4          posters/poster_389.jpg\n",
       "5          posters/poster_680.jpg\n",
       "6          posters/poster_424.jpg\n",
       "7          posters/poster_429.jpg\n",
       "8          posters/poster_122.jpg\n",
       "9          posters/poster_550.jpg\n",
       "10          posters/poster_13.jpg\n",
       "11       posters/poster_27205.jpg\n",
       "12         posters/poster_120.jpg\n",
       "13         posters/poster_598.jpg\n",
       "14         posters/poster_510.jpg\n",
       "15         posters/poster_346.jpg\n",
       "16         posters/poster_121.jpg\n",
       "17         posters/poster_603.jpg\n",
       "18          posters/poster_73.jpg\n",
       "19         posters/poster_289.jpg\n",
       "20      posters/poster_157336.jpg\n",
       "21        posters/poster_1585.jpg\n",
       "22        posters/poster_3082.jpg\n",
       "23         posters/poster_335.jpg\n",
       "24         posters/poster_857.jpg\n",
       "25         posters/poster_807.jpg\n",
       "26         posters/poster_129.jpg\n",
       "27         posters/poster_274.jpg\n",
       "28         posters/poster_629.jpg\n",
       "29      posters/poster_375290.jpg\n",
       "                  ...            \n",
       "4249     posters/poster_58048.jpg\n",
       "4250    posters/poster_168705.jpg\n",
       "4251     posters/poster_14144.jpg\n",
       "4252     posters/poster_17644.jpg\n",
       "4253    posters/poster_357837.jpg\n",
       "4254     posters/poster_24432.jpg\n",
       "4255       posters/poster_580.jpg\n",
       "4256     posters/poster_32316.jpg\n",
       "4257    posters/poster_290370.jpg\n",
       "4258      posters/poster_8854.jpg\n",
       "4259     posters/poster_10073.jpg\n",
       "4260      posters/poster_7278.jpg\n",
       "4261     posters/poster_19153.jpg\n",
       "4262     posters/poster_22345.jpg\n",
       "4263      posters/poster_5491.jpg\n",
       "4264      posters/poster_8046.jpg\n",
       "4265     posters/poster_12142.jpg\n",
       "4266     posters/poster_31535.jpg\n",
       "4267      posters/poster_9760.jpg\n",
       "4268     posters/poster_92635.jpg\n",
       "4269     posters/poster_10214.jpg\n",
       "4270     posters/poster_14351.jpg\n",
       "4271     posters/poster_31246.jpg\n",
       "4272     posters/poster_10696.jpg\n",
       "4273    posters/poster_271331.jpg\n",
       "4274     posters/poster_15581.jpg\n",
       "4275     posters/poster_13805.jpg\n",
       "4276     posters/poster_31117.jpg\n",
       "4277    posters/poster_116977.jpg\n",
       "4278     posters/poster_54518.jpg\n",
       "Name: poster_path, Length: 4279, dtype: object"
      ]
     },
     "execution_count": 25,
     "metadata": {},
     "output_type": "execute_result"
    }
   ],
   "source": [
    "md['poster_path']"
   ]
  },
  {
   "cell_type": "code",
   "execution_count": 26,
   "metadata": {},
   "outputs": [],
   "source": [
    "md.to_csv('final_movies.csv',index=False,encoding='utf-8')"
   ]
  },
  {
   "cell_type": "code",
   "execution_count": null,
   "metadata": {},
   "outputs": [],
   "source": []
  }
 ],
 "metadata": {
  "kernelspec": {
   "display_name": "Python 3",
   "language": "python",
   "name": "python3"
  },
  "language_info": {
   "codemirror_mode": {
    "name": "ipython",
    "version": 3
   },
   "file_extension": ".py",
   "mimetype": "text/x-python",
   "name": "python",
   "nbconvert_exporter": "python",
   "pygments_lexer": "ipython3",
   "version": "3.6.2"
  }
 },
 "nbformat": 4,
 "nbformat_minor": 2
}
